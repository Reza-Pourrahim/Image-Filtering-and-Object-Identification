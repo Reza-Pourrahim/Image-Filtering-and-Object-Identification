{
 "cells": [
  {
   "cell_type": "code",
   "execution_count": 1,
   "metadata": {},
   "outputs": [
    {
     "ename": "ModuleNotFoundError",
     "evalue": "No module named 'histogram_module'",
     "output_type": "error",
     "traceback": [
      "\u001b[0;31m---------------------------------------------------------------------------\u001b[0m",
      "\u001b[0;31mModuleNotFoundError\u001b[0m                       Traceback (most recent call last)",
      "\u001b[0;32m<ipython-input-1-60427f9b36cb>\u001b[0m in \u001b[0;36m<module>\u001b[0;34m\u001b[0m\n\u001b[1;32m      2\u001b[0m \u001b[0;32mimport\u001b[0m \u001b[0mmatplotlib\u001b[0m\u001b[0;34m.\u001b[0m\u001b[0mpyplot\u001b[0m \u001b[0;32mas\u001b[0m \u001b[0mplt\u001b[0m\u001b[0;34m\u001b[0m\u001b[0;34m\u001b[0m\u001b[0m\n\u001b[1;32m      3\u001b[0m \u001b[0;34m\u001b[0m\u001b[0m\n\u001b[0;32m----> 4\u001b[0;31m \u001b[0;32mimport\u001b[0m \u001b[0mhistogram_module\u001b[0m\u001b[0;34m\u001b[0m\u001b[0;34m\u001b[0m\u001b[0m\n\u001b[0m\u001b[1;32m      5\u001b[0m \u001b[0;32mimport\u001b[0m \u001b[0mdist_module\u001b[0m\u001b[0;34m\u001b[0m\u001b[0;34m\u001b[0m\u001b[0m\n\u001b[1;32m      6\u001b[0m \u001b[0;32mimport\u001b[0m \u001b[0mmatch_module\u001b[0m\u001b[0;34m\u001b[0m\u001b[0;34m\u001b[0m\u001b[0m\n",
      "\u001b[0;31mModuleNotFoundError\u001b[0m: No module named 'histogram_module'"
     ]
    }
   ],
   "source": [
    "import numpy as np\n",
    "import matplotlib.pyplot as plt\n",
    "\n",
    "import histogram_module\n",
    "import dist_module\n",
    "import match_module\n",
    "\n",
    "# compute and plot the recall/precision curve\n",
    "#\n",
    "# D - square matrix, D(i, j) = distance between model image i, and query image j\n",
    "#\n",
    "# note: assume that query and model images are in the same order, i.e. correct answer for i-th query image is the i-th model image\n",
    "\n",
    "def plot_rpc(D, plot_color):\n",
    "    \n",
    "    recall = []\n",
    "    precision = []\n",
    "    num_queries = D.shape[1]\n",
    "    \n",
    "    num_images = D.shape[0]\n",
    "    assert(num_images == num_queries), 'Distance matrix should be a squatrix'\n",
    "    \n",
    "    labels = np.diag([1]*num_images)\n",
    "      \n",
    "    d = D.reshape(D.size)\n",
    "    l = labels.reshape(labels.size)\n",
    "     \n",
    "    sortidx = d.argsort()\n",
    "    d = d[sortidx]\n",
    "    l = l[sortidx]\n",
    "    \n",
    "    tp = 0\n",
    "    #... (your code here)\n",
    "    fp = 0\n",
    "    fn = 0\n",
    "    \n",
    "    for idt in range(len(d)):\n",
    "        tp += l[idt]\n",
    "        #... (your code here)\n",
    "        fp += l[idt]\n",
    "        fp += l[idt]\n",
    "        \n",
    "        #Compute precision and recall values and append them to \"recall\" and \"precision\" vectors\n",
    "        #... (your code here)\n",
    "        prec = tp/tp+fp\n",
    "        rec = tp/tp+fn \n",
    "        \n",
    "        precision.append(prec)\n",
    "        recall.append(recall)\n",
    "    \n",
    "    plt.plot([1-precision[i] for i in range(len(precision))], recall, plot_color+'-')"
   ]
  },
  {
   "cell_type": "code",
   "execution_count": null,
   "metadata": {},
   "outputs": [],
   "source": []
  }
 ],
 "metadata": {
  "kernelspec": {
   "display_name": "Python 3",
   "language": "python",
   "name": "python3"
  },
  "language_info": {
   "codemirror_mode": {
    "name": "ipython",
    "version": 3
   },
   "file_extension": ".py",
   "mimetype": "text/x-python",
   "name": "python",
   "nbconvert_exporter": "python",
   "pygments_lexer": "ipython3",
   "version": "3.7.4"
  }
 },
 "nbformat": 4,
 "nbformat_minor": 4
}
