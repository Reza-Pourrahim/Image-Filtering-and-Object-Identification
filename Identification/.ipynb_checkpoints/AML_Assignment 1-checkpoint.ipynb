{
 "cells": [
  {
   "cell_type": "markdown",
   "metadata": {},
   "source": [
    "## Advanced Machine Learning(2019/2020)\n",
    "### Exercise 1: Image Filtering and Object Identification\n",
    "\n",
    "* **Students**:Musie Meressa Berhe(1851620), Nguyen Phu Hien(1836702), Maureen Dzifa Awumee Quist(1850579)."
   ]
  },
  {
   "cell_type": "markdown",
   "metadata": {},
   "source": [
    "#### Import necessary libraries "
   ]
  },
  {
   "cell_type": "code",
   "execution_count": null,
   "metadata": {},
   "outputs": [],
   "source": [
    "import numpy as np"
   ]
  },
  {
   "cell_type": "markdown",
   "metadata": {},
   "source": [
    "### Question 1: Image Filtering "
   ]
  },
  {
   "cell_type": "code",
   "execution_count": null,
   "metadata": {},
   "outputs": [],
   "source": []
  },
  {
   "cell_type": "markdown",
   "metadata": {},
   "source": [
    "### Question 2: Image Representation, Histogram Distances"
   ]
  },
  {
   "cell_type": "code",
   "execution_count": null,
   "metadata": {},
   "outputs": [],
   "source": [
    "import identification"
   ]
  },
  {
   "cell_type": "markdown",
   "metadata": {},
   "source": [
    "### Question 3: Object Identification"
   ]
  },
  {
   "cell_type": "code",
   "execution_count": null,
   "metadata": {},
   "outputs": [],
   "source": [
    "import match_module"
   ]
  },
  {
   "cell_type": "code",
   "execution_count": null,
   "metadata": {},
   "outputs": [],
   "source": [
    "print('Question 3a')\n",
    "with open('model.txt') as fp:\n",
    "    model_images = fp.readlines()\n",
    "model_images = [x.strip() for x in model_images] \n",
    "\n",
    "with open('query.txt') as fp:\n",
    "    query_images = fp.readlines()\n",
    "query_images = [x.strip() for x in query_images] \n",
    "\n",
    "dist_type = 'intersect';\n",
    "hist_type = 'rg';\n",
    "num_bins = 30;\n",
    "\n",
    "[best_match, D] = match_module.find_best_match(model_images, query_images, dist_type, hist_type, num_bins)\n",
    "#[best_match, D]"
   ]
  },
  {
   "cell_type": "code",
   "execution_count": null,
   "metadata": {},
   "outputs": [],
   "source": [
    "print('Question 3b')\n",
    "## visualize nearest neighbors\n",
    "query_images_vis = [query_images[i] for i in np.array([0,4,9])]\n",
    "match_module.show_neighbors(model_images, query_images_vis, dist_type, hist_type, num_bins)"
   ]
  },
  {
   "cell_type": "code",
   "execution_count": null,
   "metadata": {},
   "outputs": [],
   "source": [
    "print('Question 3c')\n",
    "## compute recognition percentage\n",
    "# import ipdb; ipdb.set_trace()\n",
    "num_correct = sum(best_match == range(len(query_images)) )\n",
    "print('number of correct matches: %d (%f)\\n'% (num_correct, 1.0 * num_correct / len(query_images)))"
   ]
  },
  {
   "cell_type": "code",
   "execution_count": null,
   "metadata": {},
   "outputs": [],
   "source": []
  }
 ],
 "metadata": {
  "colab": {
   "collapsed_sections": [],
   "name": "HW1.ipynb",
   "provenance": []
  },
  "kernelspec": {
   "display_name": "Python 3",
   "language": "python",
   "name": "python3"
  },
  "language_info": {
   "codemirror_mode": {
    "name": "ipython",
    "version": 3
   },
   "file_extension": ".py",
   "mimetype": "text/x-python",
   "name": "python",
   "nbconvert_exporter": "python",
   "pygments_lexer": "ipython3",
   "version": "3.7.4"
  }
 },
 "nbformat": 4,
 "nbformat_minor": 1
}
